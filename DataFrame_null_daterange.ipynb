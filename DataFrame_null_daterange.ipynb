{
 "cells": [
  {
   "cell_type": "code",
   "execution_count": 46,
   "metadata": {
    "collapsed": true
   },
   "outputs": [],
   "source": [
    "import numpy as np\n",
    "import pandas as pd "
   ]
  },
  {
   "cell_type": "code",
   "execution_count": 47,
   "metadata": {
    "collapsed": true
   },
   "outputs": [],
   "source": [
    "df = pd.DataFrame(np.random.randn(5,4))"
   ]
  },
  {
   "cell_type": "code",
   "execution_count": 48,
   "metadata": {},
   "outputs": [
    {
     "data": {
      "text/html": [
       "<div>\n",
       "<table border=\"1\" class=\"dataframe\">\n",
       "  <thead>\n",
       "    <tr style=\"text-align: right;\">\n",
       "      <th></th>\n",
       "      <th>0</th>\n",
       "      <th>1</th>\n",
       "      <th>2</th>\n",
       "      <th>3</th>\n",
       "    </tr>\n",
       "  </thead>\n",
       "  <tbody>\n",
       "    <tr>\n",
       "      <th>0</th>\n",
       "      <td>-0.765359</td>\n",
       "      <td>-0.560998</td>\n",
       "      <td>-0.209899</td>\n",
       "      <td>0.941353</td>\n",
       "    </tr>\n",
       "    <tr>\n",
       "      <th>1</th>\n",
       "      <td>-1.196285</td>\n",
       "      <td>-1.607525</td>\n",
       "      <td>1.191866</td>\n",
       "      <td>-0.233517</td>\n",
       "    </tr>\n",
       "    <tr>\n",
       "      <th>2</th>\n",
       "      <td>0.239024</td>\n",
       "      <td>-1.697216</td>\n",
       "      <td>1.860250</td>\n",
       "      <td>-0.868241</td>\n",
       "    </tr>\n",
       "    <tr>\n",
       "      <th>3</th>\n",
       "      <td>0.700579</td>\n",
       "      <td>-1.041329</td>\n",
       "      <td>-0.829990</td>\n",
       "      <td>1.602110</td>\n",
       "    </tr>\n",
       "    <tr>\n",
       "      <th>4</th>\n",
       "      <td>-0.203317</td>\n",
       "      <td>-1.359759</td>\n",
       "      <td>-1.142708</td>\n",
       "      <td>-1.512480</td>\n",
       "    </tr>\n",
       "  </tbody>\n",
       "</table>\n",
       "</div>"
      ],
      "text/plain": [
       "          0         1         2         3\n",
       "0 -0.765359 -0.560998 -0.209899  0.941353\n",
       "1 -1.196285 -1.607525  1.191866 -0.233517\n",
       "2  0.239024 -1.697216  1.860250 -0.868241\n",
       "3  0.700579 -1.041329 -0.829990  1.602110\n",
       "4 -0.203317 -1.359759 -1.142708 -1.512480"
      ]
     },
     "execution_count": 48,
     "metadata": {},
     "output_type": "execute_result"
    }
   ],
   "source": [
    "df"
   ]
  },
  {
   "cell_type": "code",
   "execution_count": 49,
   "metadata": {},
   "outputs": [],
   "source": [
    "df.columns = [\"A\", \"B\", \"C\", \"D\"]\n",
    "df.index = pd.date_range(start=pd.datetime(2015,1,1), \n",
    "                         periods=5, freq='AS-Aug')"
   ]
  },
  {
   "cell_type": "code",
   "execution_count": 50,
   "metadata": {},
   "outputs": [
    {
     "data": {
      "text/html": [
       "<div>\n",
       "<table border=\"1\" class=\"dataframe\">\n",
       "  <thead>\n",
       "    <tr style=\"text-align: right;\">\n",
       "      <th></th>\n",
       "      <th>A</th>\n",
       "      <th>B</th>\n",
       "      <th>C</th>\n",
       "      <th>D</th>\n",
       "    </tr>\n",
       "  </thead>\n",
       "  <tbody>\n",
       "    <tr>\n",
       "      <th>2015-08-01</th>\n",
       "      <td>-0.765359</td>\n",
       "      <td>-0.560998</td>\n",
       "      <td>-0.209899</td>\n",
       "      <td>0.941353</td>\n",
       "    </tr>\n",
       "    <tr>\n",
       "      <th>2016-08-01</th>\n",
       "      <td>-1.196285</td>\n",
       "      <td>-1.607525</td>\n",
       "      <td>1.191866</td>\n",
       "      <td>-0.233517</td>\n",
       "    </tr>\n",
       "    <tr>\n",
       "      <th>2017-08-01</th>\n",
       "      <td>0.239024</td>\n",
       "      <td>-1.697216</td>\n",
       "      <td>1.860250</td>\n",
       "      <td>-0.868241</td>\n",
       "    </tr>\n",
       "    <tr>\n",
       "      <th>2018-08-01</th>\n",
       "      <td>0.700579</td>\n",
       "      <td>-1.041329</td>\n",
       "      <td>-0.829990</td>\n",
       "      <td>1.602110</td>\n",
       "    </tr>\n",
       "    <tr>\n",
       "      <th>2019-08-01</th>\n",
       "      <td>-0.203317</td>\n",
       "      <td>-1.359759</td>\n",
       "      <td>-1.142708</td>\n",
       "      <td>-1.512480</td>\n",
       "    </tr>\n",
       "  </tbody>\n",
       "</table>\n",
       "</div>"
      ],
      "text/plain": [
       "                   A         B         C         D\n",
       "2015-08-01 -0.765359 -0.560998 -0.209899  0.941353\n",
       "2016-08-01 -1.196285 -1.607525  1.191866 -0.233517\n",
       "2017-08-01  0.239024 -1.697216  1.860250 -0.868241\n",
       "2018-08-01  0.700579 -1.041329 -0.829990  1.602110\n",
       "2019-08-01 -0.203317 -1.359759 -1.142708 -1.512480"
      ]
     },
     "execution_count": 50,
     "metadata": {},
     "output_type": "execute_result"
    }
   ],
   "source": [
    "df"
   ]
  },
  {
   "cell_type": "code",
   "execution_count": 51,
   "metadata": {
    "collapsed": true
   },
   "outputs": [],
   "source": [
    "df[\"E\"] = [np.nan, 0.1, -0.1, 1.1, np.nan]"
   ]
  },
  {
   "cell_type": "code",
   "execution_count": 52,
   "metadata": {},
   "outputs": [
    {
     "data": {
      "text/html": [
       "<div>\n",
       "<table border=\"1\" class=\"dataframe\">\n",
       "  <thead>\n",
       "    <tr style=\"text-align: right;\">\n",
       "      <th></th>\n",
       "      <th>A</th>\n",
       "      <th>B</th>\n",
       "      <th>C</th>\n",
       "      <th>D</th>\n",
       "      <th>E</th>\n",
       "    </tr>\n",
       "  </thead>\n",
       "  <tbody>\n",
       "    <tr>\n",
       "      <th>2015-08-01</th>\n",
       "      <td>-0.765359</td>\n",
       "      <td>-0.560998</td>\n",
       "      <td>-0.209899</td>\n",
       "      <td>0.941353</td>\n",
       "      <td>NaN</td>\n",
       "    </tr>\n",
       "    <tr>\n",
       "      <th>2016-08-01</th>\n",
       "      <td>-1.196285</td>\n",
       "      <td>-1.607525</td>\n",
       "      <td>1.191866</td>\n",
       "      <td>-0.233517</td>\n",
       "      <td>0.1</td>\n",
       "    </tr>\n",
       "    <tr>\n",
       "      <th>2017-08-01</th>\n",
       "      <td>0.239024</td>\n",
       "      <td>-1.697216</td>\n",
       "      <td>1.860250</td>\n",
       "      <td>-0.868241</td>\n",
       "      <td>-0.1</td>\n",
       "    </tr>\n",
       "    <tr>\n",
       "      <th>2018-08-01</th>\n",
       "      <td>0.700579</td>\n",
       "      <td>-1.041329</td>\n",
       "      <td>-0.829990</td>\n",
       "      <td>1.602110</td>\n",
       "      <td>1.1</td>\n",
       "    </tr>\n",
       "    <tr>\n",
       "      <th>2019-08-01</th>\n",
       "      <td>-0.203317</td>\n",
       "      <td>-1.359759</td>\n",
       "      <td>-1.142708</td>\n",
       "      <td>-1.512480</td>\n",
       "      <td>NaN</td>\n",
       "    </tr>\n",
       "  </tbody>\n",
       "</table>\n",
       "</div>"
      ],
      "text/plain": [
       "                   A         B         C         D    E\n",
       "2015-08-01 -0.765359 -0.560998 -0.209899  0.941353  NaN\n",
       "2016-08-01 -1.196285 -1.607525  1.191866 -0.233517  0.1\n",
       "2017-08-01  0.239024 -1.697216  1.860250 -0.868241 -0.1\n",
       "2018-08-01  0.700579 -1.041329 -0.829990  1.602110  1.1\n",
       "2019-08-01 -0.203317 -1.359759 -1.142708 -1.512480  NaN"
      ]
     },
     "execution_count": 52,
     "metadata": {},
     "output_type": "execute_result"
    }
   ],
   "source": [
    "df"
   ]
  },
  {
   "cell_type": "code",
   "execution_count": 53,
   "metadata": {},
   "outputs": [
    {
     "data": {
      "text/html": [
       "<div>\n",
       "<table border=\"1\" class=\"dataframe\">\n",
       "  <thead>\n",
       "    <tr style=\"text-align: right;\">\n",
       "      <th></th>\n",
       "      <th>A</th>\n",
       "      <th>B</th>\n",
       "      <th>C</th>\n",
       "      <th>D</th>\n",
       "      <th>E</th>\n",
       "    </tr>\n",
       "  </thead>\n",
       "  <tbody>\n",
       "    <tr>\n",
       "      <th>2016-08-01</th>\n",
       "      <td>-1.196285</td>\n",
       "      <td>-1.607525</td>\n",
       "      <td>1.191866</td>\n",
       "      <td>-0.233517</td>\n",
       "      <td>0.1</td>\n",
       "    </tr>\n",
       "    <tr>\n",
       "      <th>2017-08-01</th>\n",
       "      <td>0.239024</td>\n",
       "      <td>-1.697216</td>\n",
       "      <td>1.860250</td>\n",
       "      <td>-0.868241</td>\n",
       "      <td>-0.1</td>\n",
       "    </tr>\n",
       "    <tr>\n",
       "      <th>2018-08-01</th>\n",
       "      <td>0.700579</td>\n",
       "      <td>-1.041329</td>\n",
       "      <td>-0.829990</td>\n",
       "      <td>1.602110</td>\n",
       "      <td>1.1</td>\n",
       "    </tr>\n",
       "  </tbody>\n",
       "</table>\n",
       "</div>"
      ],
      "text/plain": [
       "                   A         B         C         D    E\n",
       "2016-08-01 -1.196285 -1.607525  1.191866 -0.233517  0.1\n",
       "2017-08-01  0.239024 -1.697216  1.860250 -0.868241 -0.1\n",
       "2018-08-01  0.700579 -1.041329 -0.829990  1.602110  1.1"
      ]
     },
     "execution_count": 53,
     "metadata": {},
     "output_type": "execute_result"
    }
   ],
   "source": [
    "df.dropna(how=\"any\")"
   ]
  },
  {
   "cell_type": "code",
   "execution_count": 54,
   "metadata": {},
   "outputs": [
    {
     "data": {
      "text/html": [
       "<div>\n",
       "<table border=\"1\" class=\"dataframe\">\n",
       "  <thead>\n",
       "    <tr style=\"text-align: right;\">\n",
       "      <th></th>\n",
       "      <th>A</th>\n",
       "      <th>B</th>\n",
       "      <th>C</th>\n",
       "      <th>D</th>\n",
       "      <th>E</th>\n",
       "    </tr>\n",
       "  </thead>\n",
       "  <tbody>\n",
       "    <tr>\n",
       "      <th>2015-08-01</th>\n",
       "      <td>-0.765359</td>\n",
       "      <td>-0.560998</td>\n",
       "      <td>-0.209899</td>\n",
       "      <td>0.941353</td>\n",
       "      <td>NaN</td>\n",
       "    </tr>\n",
       "    <tr>\n",
       "      <th>2016-08-01</th>\n",
       "      <td>-1.196285</td>\n",
       "      <td>-1.607525</td>\n",
       "      <td>1.191866</td>\n",
       "      <td>-0.233517</td>\n",
       "      <td>0.1</td>\n",
       "    </tr>\n",
       "    <tr>\n",
       "      <th>2017-08-01</th>\n",
       "      <td>0.239024</td>\n",
       "      <td>-1.697216</td>\n",
       "      <td>1.860250</td>\n",
       "      <td>-0.868241</td>\n",
       "      <td>-0.1</td>\n",
       "    </tr>\n",
       "    <tr>\n",
       "      <th>2018-08-01</th>\n",
       "      <td>0.700579</td>\n",
       "      <td>-1.041329</td>\n",
       "      <td>-0.829990</td>\n",
       "      <td>1.602110</td>\n",
       "      <td>1.1</td>\n",
       "    </tr>\n",
       "    <tr>\n",
       "      <th>2019-08-01</th>\n",
       "      <td>-0.203317</td>\n",
       "      <td>-1.359759</td>\n",
       "      <td>-1.142708</td>\n",
       "      <td>-1.512480</td>\n",
       "      <td>NaN</td>\n",
       "    </tr>\n",
       "  </tbody>\n",
       "</table>\n",
       "</div>"
      ],
      "text/plain": [
       "                   A         B         C         D    E\n",
       "2015-08-01 -0.765359 -0.560998 -0.209899  0.941353  NaN\n",
       "2016-08-01 -1.196285 -1.607525  1.191866 -0.233517  0.1\n",
       "2017-08-01  0.239024 -1.697216  1.860250 -0.868241 -0.1\n",
       "2018-08-01  0.700579 -1.041329 -0.829990  1.602110  1.1\n",
       "2019-08-01 -0.203317 -1.359759 -1.142708 -1.512480  NaN"
      ]
     },
     "execution_count": 54,
     "metadata": {},
     "output_type": "execute_result"
    }
   ],
   "source": [
    "df.dropna(axis=1, how='all') #Drop column if they only contain missing values"
   ]
  },
  {
   "cell_type": "code",
   "execution_count": 55,
   "metadata": {},
   "outputs": [
    {
     "data": {
      "text/html": [
       "<div>\n",
       "<table border=\"1\" class=\"dataframe\">\n",
       "  <thead>\n",
       "    <tr style=\"text-align: right;\">\n",
       "      <th></th>\n",
       "      <th>A</th>\n",
       "      <th>B</th>\n",
       "      <th>C</th>\n",
       "      <th>D</th>\n",
       "      <th>E</th>\n",
       "    </tr>\n",
       "  </thead>\n",
       "  <tbody>\n",
       "    <tr>\n",
       "      <th>2015-08-01</th>\n",
       "      <td>-0.765359</td>\n",
       "      <td>-0.560998</td>\n",
       "      <td>-0.209899</td>\n",
       "      <td>0.941353</td>\n",
       "      <td>3.0</td>\n",
       "    </tr>\n",
       "    <tr>\n",
       "      <th>2016-08-01</th>\n",
       "      <td>-1.196285</td>\n",
       "      <td>-1.607525</td>\n",
       "      <td>1.191866</td>\n",
       "      <td>-0.233517</td>\n",
       "      <td>0.1</td>\n",
       "    </tr>\n",
       "    <tr>\n",
       "      <th>2017-08-01</th>\n",
       "      <td>0.239024</td>\n",
       "      <td>-1.697216</td>\n",
       "      <td>1.860250</td>\n",
       "      <td>-0.868241</td>\n",
       "      <td>-0.1</td>\n",
       "    </tr>\n",
       "    <tr>\n",
       "      <th>2018-08-01</th>\n",
       "      <td>0.700579</td>\n",
       "      <td>-1.041329</td>\n",
       "      <td>-0.829990</td>\n",
       "      <td>1.602110</td>\n",
       "      <td>1.1</td>\n",
       "    </tr>\n",
       "    <tr>\n",
       "      <th>2019-08-01</th>\n",
       "      <td>-0.203317</td>\n",
       "      <td>-1.359759</td>\n",
       "      <td>-1.142708</td>\n",
       "      <td>-1.512480</td>\n",
       "      <td>3.0</td>\n",
       "    </tr>\n",
       "  </tbody>\n",
       "</table>\n",
       "</div>"
      ],
      "text/plain": [
       "                   A         B         C         D    E\n",
       "2015-08-01 -0.765359 -0.560998 -0.209899  0.941353  3.0\n",
       "2016-08-01 -1.196285 -1.607525  1.191866 -0.233517  0.1\n",
       "2017-08-01  0.239024 -1.697216  1.860250 -0.868241 -0.1\n",
       "2018-08-01  0.700579 -1.041329 -0.829990  1.602110  1.1\n",
       "2019-08-01 -0.203317 -1.359759 -1.142708 -1.512480  3.0"
      ]
     },
     "execution_count": 55,
     "metadata": {},
     "output_type": "execute_result"
    }
   ],
   "source": [
    "df.fillna(value=3) # df.fillna(0) with zeros "
   ]
  },
  {
   "cell_type": "code",
   "execution_count": 56,
   "metadata": {},
   "outputs": [
    {
     "data": {
      "text/html": [
       "<div>\n",
       "<table border=\"1\" class=\"dataframe\">\n",
       "  <thead>\n",
       "    <tr style=\"text-align: right;\">\n",
       "      <th></th>\n",
       "      <th>A</th>\n",
       "      <th>B</th>\n",
       "      <th>C</th>\n",
       "      <th>D</th>\n",
       "      <th>E</th>\n",
       "    </tr>\n",
       "  </thead>\n",
       "  <tbody>\n",
       "    <tr>\n",
       "      <th>2015-08-01</th>\n",
       "      <td>-0.765359</td>\n",
       "      <td>-0.560998</td>\n",
       "      <td>-0.209899</td>\n",
       "      <td>0.941353</td>\n",
       "      <td>NaN</td>\n",
       "    </tr>\n",
       "    <tr>\n",
       "      <th>2016-08-01</th>\n",
       "      <td>-1.196285</td>\n",
       "      <td>-1.607525</td>\n",
       "      <td>1.191866</td>\n",
       "      <td>-0.233517</td>\n",
       "      <td>0.1</td>\n",
       "    </tr>\n",
       "    <tr>\n",
       "      <th>2017-08-01</th>\n",
       "      <td>0.239024</td>\n",
       "      <td>-1.697216</td>\n",
       "      <td>1.860250</td>\n",
       "      <td>-0.868241</td>\n",
       "      <td>-0.1</td>\n",
       "    </tr>\n",
       "    <tr>\n",
       "      <th>2018-08-01</th>\n",
       "      <td>0.700579</td>\n",
       "      <td>-1.041329</td>\n",
       "      <td>-0.829990</td>\n",
       "      <td>1.602110</td>\n",
       "      <td>1.1</td>\n",
       "    </tr>\n",
       "    <tr>\n",
       "      <th>2019-08-01</th>\n",
       "      <td>-0.203317</td>\n",
       "      <td>-1.359759</td>\n",
       "      <td>-1.142708</td>\n",
       "      <td>-1.512480</td>\n",
       "      <td>NaN</td>\n",
       "    </tr>\n",
       "  </tbody>\n",
       "</table>\n",
       "</div>"
      ],
      "text/plain": [
       "                   A         B         C         D    E\n",
       "2015-08-01 -0.765359 -0.560998 -0.209899  0.941353  NaN\n",
       "2016-08-01 -1.196285 -1.607525  1.191866 -0.233517  0.1\n",
       "2017-08-01  0.239024 -1.697216  1.860250 -0.868241 -0.1\n",
       "2018-08-01  0.700579 -1.041329 -0.829990  1.602110  1.1\n",
       "2019-08-01 -0.203317 -1.359759 -1.142708 -1.512480  NaN"
      ]
     },
     "execution_count": 56,
     "metadata": {},
     "output_type": "execute_result"
    }
   ],
   "source": [
    "df"
   ]
  },
  {
   "cell_type": "code",
   "execution_count": 57,
   "metadata": {},
   "outputs": [
    {
     "data": {
      "text/html": [
       "<div>\n",
       "<table border=\"1\" class=\"dataframe\">\n",
       "  <thead>\n",
       "    <tr style=\"text-align: right;\">\n",
       "      <th></th>\n",
       "      <th>A</th>\n",
       "      <th>B</th>\n",
       "      <th>C</th>\n",
       "      <th>D</th>\n",
       "      <th>E</th>\n",
       "    </tr>\n",
       "  </thead>\n",
       "  <tbody>\n",
       "    <tr>\n",
       "      <th>2015-08-01</th>\n",
       "      <td>False</td>\n",
       "      <td>False</td>\n",
       "      <td>False</td>\n",
       "      <td>False</td>\n",
       "      <td>True</td>\n",
       "    </tr>\n",
       "    <tr>\n",
       "      <th>2016-08-01</th>\n",
       "      <td>False</td>\n",
       "      <td>False</td>\n",
       "      <td>False</td>\n",
       "      <td>False</td>\n",
       "      <td>False</td>\n",
       "    </tr>\n",
       "    <tr>\n",
       "      <th>2017-08-01</th>\n",
       "      <td>False</td>\n",
       "      <td>False</td>\n",
       "      <td>False</td>\n",
       "      <td>False</td>\n",
       "      <td>False</td>\n",
       "    </tr>\n",
       "    <tr>\n",
       "      <th>2018-08-01</th>\n",
       "      <td>False</td>\n",
       "      <td>False</td>\n",
       "      <td>False</td>\n",
       "      <td>False</td>\n",
       "      <td>False</td>\n",
       "    </tr>\n",
       "    <tr>\n",
       "      <th>2019-08-01</th>\n",
       "      <td>False</td>\n",
       "      <td>False</td>\n",
       "      <td>False</td>\n",
       "      <td>False</td>\n",
       "      <td>True</td>\n",
       "    </tr>\n",
       "  </tbody>\n",
       "</table>\n",
       "</div>"
      ],
      "text/plain": [
       "                A      B      C      D      E\n",
       "2015-08-01  False  False  False  False   True\n",
       "2016-08-01  False  False  False  False  False\n",
       "2017-08-01  False  False  False  False  False\n",
       "2018-08-01  False  False  False  False  False\n",
       "2019-08-01  False  False  False  False   True"
      ]
     },
     "execution_count": 57,
     "metadata": {},
     "output_type": "execute_result"
    }
   ],
   "source": [
    "df.isnull() # boolean masks"
   ]
  },
  {
   "cell_type": "code",
   "execution_count": 59,
   "metadata": {},
   "outputs": [
    {
     "data": {
      "text/html": [
       "<div>\n",
       "<table border=\"1\" class=\"dataframe\">\n",
       "  <thead>\n",
       "    <tr style=\"text-align: right;\">\n",
       "      <th></th>\n",
       "      <th>A</th>\n",
       "      <th>B</th>\n",
       "      <th>C</th>\n",
       "      <th>D</th>\n",
       "      <th>E</th>\n",
       "    </tr>\n",
       "  </thead>\n",
       "  <tbody>\n",
       "    <tr>\n",
       "      <th>2015-08-01</th>\n",
       "      <td>-0.765359</td>\n",
       "      <td>-0.560998</td>\n",
       "      <td>-0.209899</td>\n",
       "      <td>0.941353</td>\n",
       "      <td>NaN</td>\n",
       "    </tr>\n",
       "    <tr>\n",
       "      <th>2019-08-01</th>\n",
       "      <td>-0.203317</td>\n",
       "      <td>-1.359759</td>\n",
       "      <td>-1.142708</td>\n",
       "      <td>-1.512480</td>\n",
       "      <td>NaN</td>\n",
       "    </tr>\n",
       "  </tbody>\n",
       "</table>\n",
       "</div>"
      ],
      "text/plain": [
       "                   A         B         C         D   E\n",
       "2015-08-01 -0.765359 -0.560998 -0.209899  0.941353 NaN\n",
       "2019-08-01 -0.203317 -1.359759 -1.142708 -1.512480 NaN"
      ]
     },
     "execution_count": 59,
     "metadata": {},
     "output_type": "execute_result"
    }
   ],
   "source": [
    "df.loc[df.isnull()[\"E\"],:] # F 열의 na 행만 선택"
   ]
  },
  {
   "cell_type": "code",
   "execution_count": 60,
   "metadata": {},
   "outputs": [
    {
     "data": {
      "text/html": [
       "<div>\n",
       "<table border=\"1\" class=\"dataframe\">\n",
       "  <thead>\n",
       "    <tr style=\"text-align: right;\">\n",
       "      <th></th>\n",
       "      <th>A</th>\n",
       "      <th>B</th>\n",
       "      <th>C</th>\n",
       "      <th>D</th>\n",
       "      <th>E</th>\n",
       "    </tr>\n",
       "  </thead>\n",
       "  <tbody>\n",
       "    <tr>\n",
       "      <th>2015-08-01</th>\n",
       "      <td>-0.765359</td>\n",
       "      <td>-0.560998</td>\n",
       "      <td>-0.209899</td>\n",
       "      <td>0.941353</td>\n",
       "      <td>NaN</td>\n",
       "    </tr>\n",
       "    <tr>\n",
       "      <th>2016-08-01</th>\n",
       "      <td>-1.196285</td>\n",
       "      <td>-1.607525</td>\n",
       "      <td>1.191866</td>\n",
       "      <td>-0.233517</td>\n",
       "      <td>0.1</td>\n",
       "    </tr>\n",
       "    <tr>\n",
       "      <th>2017-08-01</th>\n",
       "      <td>0.239024</td>\n",
       "      <td>-1.697216</td>\n",
       "      <td>1.860250</td>\n",
       "      <td>-0.868241</td>\n",
       "      <td>-0.1</td>\n",
       "    </tr>\n",
       "    <tr>\n",
       "      <th>2018-08-01</th>\n",
       "      <td>0.700579</td>\n",
       "      <td>-1.041329</td>\n",
       "      <td>-0.829990</td>\n",
       "      <td>1.602110</td>\n",
       "      <td>1.1</td>\n",
       "    </tr>\n",
       "    <tr>\n",
       "      <th>2019-08-01</th>\n",
       "      <td>-0.203317</td>\n",
       "      <td>-1.359759</td>\n",
       "      <td>-1.142708</td>\n",
       "      <td>-1.512480</td>\n",
       "      <td>NaN</td>\n",
       "    </tr>\n",
       "  </tbody>\n",
       "</table>\n",
       "</div>"
      ],
      "text/plain": [
       "                   A         B         C         D    E\n",
       "2015-08-01 -0.765359 -0.560998 -0.209899  0.941353  NaN\n",
       "2016-08-01 -1.196285 -1.607525  1.191866 -0.233517  0.1\n",
       "2017-08-01  0.239024 -1.697216  1.860250 -0.868241 -0.1\n",
       "2018-08-01  0.700579 -1.041329 -0.829990  1.602110  1.1\n",
       "2019-08-01 -0.203317 -1.359759 -1.142708 -1.512480  NaN"
      ]
     },
     "execution_count": 60,
     "metadata": {},
     "output_type": "execute_result"
    }
   ],
   "source": [
    "df"
   ]
  },
  {
   "cell_type": "code",
   "execution_count": 61,
   "metadata": {},
   "outputs": [
    {
     "data": {
      "text/plain": [
       "Timestamp('2016-08-01 00:00:00')"
      ]
     },
     "execution_count": 61,
     "metadata": {},
     "output_type": "execute_result"
    }
   ],
   "source": [
    "pd.to_datetime(\"20160801\")"
   ]
  },
  {
   "cell_type": "code",
   "execution_count": 62,
   "metadata": {},
   "outputs": [
    {
     "data": {
      "text/html": [
       "<div>\n",
       "<table border=\"1\" class=\"dataframe\">\n",
       "  <thead>\n",
       "    <tr style=\"text-align: right;\">\n",
       "      <th></th>\n",
       "      <th>A</th>\n",
       "      <th>B</th>\n",
       "      <th>C</th>\n",
       "      <th>D</th>\n",
       "      <th>E</th>\n",
       "    </tr>\n",
       "  </thead>\n",
       "  <tbody>\n",
       "    <tr>\n",
       "      <th>2015-08-01</th>\n",
       "      <td>-0.765359</td>\n",
       "      <td>-0.560998</td>\n",
       "      <td>-0.209899</td>\n",
       "      <td>0.941353</td>\n",
       "      <td>NaN</td>\n",
       "    </tr>\n",
       "    <tr>\n",
       "      <th>2017-08-01</th>\n",
       "      <td>0.239024</td>\n",
       "      <td>-1.697216</td>\n",
       "      <td>1.860250</td>\n",
       "      <td>-0.868241</td>\n",
       "      <td>-0.1</td>\n",
       "    </tr>\n",
       "    <tr>\n",
       "      <th>2018-08-01</th>\n",
       "      <td>0.700579</td>\n",
       "      <td>-1.041329</td>\n",
       "      <td>-0.829990</td>\n",
       "      <td>1.602110</td>\n",
       "      <td>1.1</td>\n",
       "    </tr>\n",
       "    <tr>\n",
       "      <th>2019-08-01</th>\n",
       "      <td>-0.203317</td>\n",
       "      <td>-1.359759</td>\n",
       "      <td>-1.142708</td>\n",
       "      <td>-1.512480</td>\n",
       "      <td>NaN</td>\n",
       "    </tr>\n",
       "  </tbody>\n",
       "</table>\n",
       "</div>"
      ],
      "text/plain": [
       "                   A         B         C         D    E\n",
       "2015-08-01 -0.765359 -0.560998 -0.209899  0.941353  NaN\n",
       "2017-08-01  0.239024 -1.697216  1.860250 -0.868241 -0.1\n",
       "2018-08-01  0.700579 -1.041329 -0.829990  1.602110  1.1\n",
       "2019-08-01 -0.203317 -1.359759 -1.142708 -1.512480  NaN"
      ]
     },
     "execution_count": 62,
     "metadata": {},
     "output_type": "execute_result"
    }
   ],
   "source": [
    "df.drop(pd.to_datetime(\"20160801\"))"
   ]
  },
  {
   "cell_type": "code",
   "execution_count": 64,
   "metadata": {},
   "outputs": [
    {
     "data": {
      "text/html": [
       "<div>\n",
       "<table border=\"1\" class=\"dataframe\">\n",
       "  <thead>\n",
       "    <tr style=\"text-align: right;\">\n",
       "      <th></th>\n",
       "      <th>A</th>\n",
       "      <th>B</th>\n",
       "      <th>C</th>\n",
       "      <th>D</th>\n",
       "      <th>E</th>\n",
       "    </tr>\n",
       "  </thead>\n",
       "  <tbody>\n",
       "    <tr>\n",
       "      <th>2016-08-01</th>\n",
       "      <td>-1.196285</td>\n",
       "      <td>-1.607525</td>\n",
       "      <td>1.191866</td>\n",
       "      <td>-0.233517</td>\n",
       "      <td>0.1</td>\n",
       "    </tr>\n",
       "    <tr>\n",
       "      <th>2017-08-01</th>\n",
       "      <td>0.239024</td>\n",
       "      <td>-1.697216</td>\n",
       "      <td>1.860250</td>\n",
       "      <td>-0.868241</td>\n",
       "      <td>-0.1</td>\n",
       "    </tr>\n",
       "    <tr>\n",
       "      <th>2018-08-01</th>\n",
       "      <td>0.700579</td>\n",
       "      <td>-1.041329</td>\n",
       "      <td>-0.829990</td>\n",
       "      <td>1.602110</td>\n",
       "      <td>1.1</td>\n",
       "    </tr>\n",
       "  </tbody>\n",
       "</table>\n",
       "</div>"
      ],
      "text/plain": [
       "                   A         B         C         D    E\n",
       "2016-08-01 -1.196285 -1.607525  1.191866 -0.233517  0.1\n",
       "2017-08-01  0.239024 -1.697216  1.860250 -0.868241 -0.1\n",
       "2018-08-01  0.700579 -1.041329 -0.829990  1.602110  1.1"
      ]
     },
     "execution_count": 64,
     "metadata": {},
     "output_type": "execute_result"
    }
   ],
   "source": [
    "df.drop([pd.to_datetime(\"20150801\"), pd.to_datetime(\"20190801\")])"
   ]
  },
  {
   "cell_type": "code",
   "execution_count": 66,
   "metadata": {},
   "outputs": [
    {
     "data": {
      "text/html": [
       "<div>\n",
       "<table border=\"1\" class=\"dataframe\">\n",
       "  <thead>\n",
       "    <tr style=\"text-align: right;\">\n",
       "      <th></th>\n",
       "      <th>A</th>\n",
       "      <th>B</th>\n",
       "      <th>C</th>\n",
       "      <th>D</th>\n",
       "    </tr>\n",
       "  </thead>\n",
       "  <tbody>\n",
       "    <tr>\n",
       "      <th>2015-08-01</th>\n",
       "      <td>-0.765359</td>\n",
       "      <td>-0.560998</td>\n",
       "      <td>-0.209899</td>\n",
       "      <td>0.941353</td>\n",
       "    </tr>\n",
       "    <tr>\n",
       "      <th>2016-08-01</th>\n",
       "      <td>-1.196285</td>\n",
       "      <td>-1.607525</td>\n",
       "      <td>1.191866</td>\n",
       "      <td>-0.233517</td>\n",
       "    </tr>\n",
       "    <tr>\n",
       "      <th>2017-08-01</th>\n",
       "      <td>0.239024</td>\n",
       "      <td>-1.697216</td>\n",
       "      <td>1.860250</td>\n",
       "      <td>-0.868241</td>\n",
       "    </tr>\n",
       "    <tr>\n",
       "      <th>2018-08-01</th>\n",
       "      <td>0.700579</td>\n",
       "      <td>-1.041329</td>\n",
       "      <td>-0.829990</td>\n",
       "      <td>1.602110</td>\n",
       "    </tr>\n",
       "    <tr>\n",
       "      <th>2019-08-01</th>\n",
       "      <td>-0.203317</td>\n",
       "      <td>-1.359759</td>\n",
       "      <td>-1.142708</td>\n",
       "      <td>-1.512480</td>\n",
       "    </tr>\n",
       "  </tbody>\n",
       "</table>\n",
       "</div>"
      ],
      "text/plain": [
       "                   A         B         C         D\n",
       "2015-08-01 -0.765359 -0.560998 -0.209899  0.941353\n",
       "2016-08-01 -1.196285 -1.607525  1.191866 -0.233517\n",
       "2017-08-01  0.239024 -1.697216  1.860250 -0.868241\n",
       "2018-08-01  0.700579 -1.041329 -0.829990  1.602110\n",
       "2019-08-01 -0.203317 -1.359759 -1.142708 -1.512480"
      ]
     },
     "execution_count": 66,
     "metadata": {},
     "output_type": "execute_result"
    }
   ],
   "source": [
    "df.drop(\"E\", axis=1) # as axis =1 implies that F is column "
   ]
  }
 ],
 "metadata": {
  "kernelspec": {
   "display_name": "Python 3",
   "language": "python",
   "name": "python3"
  },
  "language_info": {
   "codemirror_mode": {
    "name": "ipython",
    "version": 3
   },
   "file_extension": ".py",
   "mimetype": "text/x-python",
   "name": "python",
   "nbconvert_exporter": "python",
   "pygments_lexer": "ipython3",
   "version": "3.6.0"
  }
 },
 "nbformat": 4,
 "nbformat_minor": 2
}
