
{
 "cells": [
  {
   "cell_type": "code",
   "execution_count": 3,
   "metadata": {
    "collapsed": true
   },
   "outputs": [],
   "source": [
    "# Review numpy library using the \n",
    "import numpy as np "
   ]
  },
  {
   "cell_type": "code",
   "execution_count": 1,
   "metadata": {
    "collapsed": true
   },
   "outputs": [],
   "source": [
    "# Review what the data looks like \n",
    "\n",
    "# 1::1193::5::978300760\n",
    "# 1::661::3::978302109\n",
    "# 1::914::3::978301968\n",
    "# 1::3408::4::978300275\n",
    "# 1::2355::5::978824291\n",
    "# 1::1197::3::978302268\n",
    "# ... \n",
    "\n",
    "# The MovieLens 1M dataset uses a double colon :: as separator.\n",
    "# the 1st column (index 0) = user ID\n",
    "# the 3rd column (index 2) = ratings\n"
   ]
  },
  {
   "cell_type": "code",
   "execution_count": 19,
   "metadata": {},
   "outputs": [],
   "source": [
    "data = np.loadtxt(\"data/ml-1m/ratings.dat\", \n",
    "                  delimiter = \"::\", dtype=np.int64)"
   ]
  },
  {
   "cell_type": "code",
   "execution_count": 18,
   "metadata": {},
   "outputs": [
    {
     "data": {
      "text/plain": [
       "array([[        1,      1193,         5, 978300760],\n",
       "       [        1,       661,         3, 978302109],\n",
       "       [        1,       914,         3, 978301968],\n",
       "       [        1,      3408,         4, 978300275],\n",
       "       [        1,      2355,         5, 978824291],\n",
       "       [        1,      1197,         3, 978302268],\n",
       "       [        1,      1287,         5, 978302039]])"
      ]
     },
     "execution_count": 18,
     "metadata": {},
     "output_type": "execute_result"
    }
   ],
   "source": [
    "data[:7, :]  # check the first 7 rows "
   ]
  },
  {
   "cell_type": "code",
   "execution_count": 20,
   "metadata": {},
   "outputs": [
    {
     "data": {
      "text/plain": [
       "(1000209, 4)"
      ]
     },
     "execution_count": 20,
     "metadata": {},
     "output_type": "execute_result"
    }
   ],
   "source": [
    "data.shape "
   ]
  },
  {
   "cell_type": "code",
   "execution_count": 34,
   "metadata": {
    "collapsed": true
   },
   "outputs": [],
   "source": [
    "######################################################################\n",
    "######## <<1>> Calculate total mean (mean of index 2 column) #########\n",
    "totalmean_rate = data[:, 2].mean()"
   ]
  },
  {
   "cell_type": "code",
   "execution_count": 35,
   "metadata": {},
   "outputs": [
    {
     "data": {
      "text/plain": [
       "3.5815644530293169"
      ]
     },
     "execution_count": 35,
     "metadata": {},
     "output_type": "execute_result"
    }
   ],
   "source": [
    "totalmean_rate"
   ]
  },
  {
   "cell_type": "code",
   "execution_count": 36,
   "metadata": {
    "collapsed": true
   },
   "outputs": [],
   "source": [
    "######################################################################\n",
    "########  <<2>> Calculate mean rating of the each user ID  ###########\n",
    "\n",
    "# Firstly, need to extract the unique user IDs from the data\n",
    "ids = np.unique(data[:,0]) # use unique command, at the index 0"
   ]
  },
  {
   "cell_type": "code",
   "execution_count": 37,
   "metadata": {},
   "outputs": [
    {
     "data": {
      "text/plain": [
       "array([   1,    2,    3, ..., 6038, 6039, 6040])"
      ]
     },
     "execution_count": 37,
     "metadata": {},
     "output_type": "execute_result"
    }
   ],
   "source": [
    "ids "
   ]
  },
  {
   "cell_type": "code",
   "execution_count": 40,
   "metadata": {},
   "outputs": [],
   "source": [
    "mean_rating_user = [] \n",
    "\n",
    "# Secondly, make an empty list, \n",
    "# user id and its mean rating will be added\n",
    "\n",
    "for user_id in ids: \n",
    "    data_for_user = data[data[:, 0] == user_id, :] #(1) \n",
    "    mean_rating_id = data_for_user[:, 2].mean()  #(2) \n",
    "    mean_rating_user.append([user_id, mean_rating_id]) #(3)\n",
    "\n",
    "# (1) ex) create data_for_user when the user_id == 1\n",
    "# (2) Calculate the mean of data_for user (as this data all users are 1)\n",
    "# (3) Store the user_id, and its calculated mean in mean_rating_user \n",
    "# (3) Loop users from 1 to 6040"
   ]
  },
  {
   "cell_type": "code",
   "execution_count": 41,
   "metadata": {},
   "outputs": [
    {
     "data": {
      "text/plain": [
       "[[1, 4.1886792452830193],\n",
       " [2, 3.7131782945736433],\n",
       " [3, 3.9019607843137254],\n",
       " [4, 4.1904761904761907],\n",
       " [5, 3.1464646464646466]]"
      ]
     },
     "execution_count": 41,
     "metadata": {},
     "output_type": "execute_result"
    }
   ],
   "source": [
    "mean_rating_user[:5]"
   ]
  },
  {
   "cell_type": "code",
   "execution_count": 42,
   "metadata": {
    "collapsed": true
   },
   "outputs": [],
   "source": [
    "# change it the array format \n",
    "mean_rating_user_array = np.array(mean_rating_user, dtype=np.float32)"
   ]
  },
  {
   "cell_type": "code",
   "execution_count": 43,
   "metadata": {},
   "outputs": [
    {
     "data": {
      "text/plain": [
       "array([[ 1.        ,  4.18867922],\n",
       "       [ 2.        ,  3.7131784 ],\n",
       "       [ 3.        ,  3.90196085],\n",
       "       [ 4.        ,  4.19047642],\n",
       "       [ 5.        ,  3.14646459]], dtype=float32)"
      ]
     },
     "execution_count": 43,
     "metadata": {},
     "output_type": "execute_result"
    }
   ],
   "source": [
    "mean_rating_user_array[:5]"
   ]
  },
  {
   "cell_type": "code",
   "execution_count": 44,
   "metadata": {
    "collapsed": true
   },
   "outputs": [],
   "source": [
    "# Save this result as a csv file \n",
    "np.savetxt(\"mean_rating_user.csv\", \n",
    "           mean_rating_user_array, fmt=\"%3f\", delimiter=\",\")"
   ]
  }
 ],
 "metadata": {
  "kernelspec": {
   "display_name": "Python 3",
   "language": "python",
   "name": "python3"
  },
  "language_info": {
   "codemirror_mode": {
    "name": "ipython",
    "version": 3
   },
   "file_extension": ".py",
   "mimetype": "text/x-python",
   "name": "python",
   "nbconvert_exporter": "python",
   "pygments_lexer": "ipython3",
   "version": "3.6.0"
  }
 },
 "nbformat": 4,
 "nbformat_minor": 2
}
